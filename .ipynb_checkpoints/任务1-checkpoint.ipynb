{
 "cells": [
  {
   "cell_type": "markdown",
   "id": "dae1a431-41c7-4031-9898-c34a70c09898",
   "metadata": {},
   "source": [
    "## 读取图像"
   ]
  },
  {
   "cell_type": "code",
   "execution_count": 1,
   "id": "7ee4965f-13c8-4fb5-a0ae-35797162cbf6",
   "metadata": {
    "tags": []
   },
   "outputs": [],
   "source": [
    "from  skimage import io"
   ]
  },
  {
   "cell_type": "code",
   "execution_count": null,
   "id": "50ba0f5a-e371-4a5a-ba1a-6b53ef1bb1d7",
   "metadata": {},
   "outputs": [],
   "source": []
  }
 ],
 "metadata": {
  "kernelspec": {
   "display_name": "Python 3",
   "language": "python",
   "name": "python3"
  },
  "language_info": {
   "codemirror_mode": {
    "name": "ipython",
    "version": 3
   },
   "file_extension": ".py",
   "mimetype": "text/x-python",
   "name": "python",
   "nbconvert_exporter": "python",
   "pygments_lexer": "ipython3",
   "version": "3.10.9"
  }
 },
 "nbformat": 4,
 "nbformat_minor": 5
}
