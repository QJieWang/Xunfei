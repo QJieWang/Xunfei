{
 "cells": [
  {
   "cell_type": "code",
   "execution_count": 1,
   "id": "b2703965-4a98-479a-b64e-faca8ad51b04",
   "metadata": {
    "tags": []
   },
   "outputs": [],
   "source": [
    "from dataset import AppleDataset\n",
    "from torch.utils.data import DataLoader\n",
    "import albumentations as A\n",
    "from PIL import Image\n",
    "import numpy as np"
   ]
  },
  {
   "cell_type": "code",
   "execution_count": 2,
   "id": "c976986d-fb97-4688-be60-c9b11af91b62",
   "metadata": {
    "tags": []
   },
   "outputs": [],
   "source": [
    "import torch\n",
    "import csv\n",
    "import pandas as pd\n",
    "from tqdm import tqdm"
   ]
  },
  {
   "cell_type": "code",
   "execution_count": 6,
   "id": "72097e4f-50f4-458b-b8d8-4e1b10f8b7fb",
   "metadata": {
    "tags": []
   },
   "outputs": [
    {
     "data": {
      "text/plain": [
       "True"
      ]
     },
     "execution_count": 6,
     "metadata": {},
     "output_type": "execute_result"
    }
   ],
   "source": [
    "img_1 = np.array(Image.open(\"./Alternaria leaf spot (142).jpg\"))\n",
    "img_2 = np.array(Image.open(\"./Grey spot (291).jpg\"))\n",
    "(img_1 == img_2).all()"
   ]
  },
  {
   "cell_type": "code",
   "execution_count": 4,
   "id": "6c853aee-803e-4d54-9d08-43f15b7f9da6",
   "metadata": {
    "tags": []
   },
   "outputs": [],
   "source": [
    "path = [\"/home/medicaldata/WTJData/xunfei/苹果病害图像识别挑战赛公开数据/\", \"/home/medicaldata/WTJData/xunfei/高分辨率遥感影像建筑物变化检测挑战赛公开数据-初赛\"]\n",
    "Apple_data = DataLoader(AppleDataset(path[0], \"train\",transform = A.Resize(512, 512)),batch_size = 600)"
   ]
  },
  {
   "cell_type": "code",
   "execution_count": 5,
   "id": "abc4753e-83ab-46d8-8eb9-995b4e11850a",
   "metadata": {
    "tags": []
   },
   "outputs": [
    {
     "name": "stderr",
     "output_type": "stream",
     "text": [
      "100%|██████████| 18/18 [04:45<00:00, 15.86s/it]\n"
     ]
    }
   ],
   "source": [
    "with open(f'./Apple_hash.csv', 'w', newline='') as csvfile:\n",
    "    writer = csv.writer(csvfile)\n",
    "    writer.writerow(['Names', 'Hash'])  # Write the header row\n",
    "\n",
    "    for imgs,labels,names in tqdm(Apple_data):\n",
    "        temp = torch.sum(imgs, dim=(1,2,3))\n",
    "        ans_label = np.array(names)\n",
    "\n",
    "        for j in range(len(temp)):\n",
    "            writer.writerow([ans_label[j],temp[j].item()])  # Write the UUID and label to the CSV file"
   ]
  },
  {
   "cell_type": "code",
   "execution_count": 7,
   "id": "ca066ae8-84b2-4bda-90cd-aa0d0eaaf5a7",
   "metadata": {
    "tags": []
   },
   "outputs": [],
   "source": [
    "Apple_Hash = pd.read_csv('./Apple_hash.csv')"
   ]
  },
  {
   "cell_type": "code",
   "execution_count": 16,
   "id": "1c902a72-6ec9-46a1-ab92-74edd1238084",
   "metadata": {
    "tags": []
   },
   "outputs": [
    {
     "data": {
      "text/plain": [
       "(34, 2)"
      ]
     },
     "execution_count": 16,
     "metadata": {},
     "output_type": "execute_result"
    }
   ],
   "source": [
    "Apple_Hash[Apple_Hash.duplicated(subset=['Hash'])].shape"
   ]
  },
  {
   "cell_type": "code",
   "execution_count": 30,
   "id": "937f4314-4efd-49de-99b0-9dcdf1ec3bc7",
   "metadata": {
    "tags": []
   },
   "outputs": [],
   "source": [
    "df = Apple_Hash[Apple_Hash.duplicated(subset=['Hash'],keep=False)]\n",
    "temp = df['Hash'].values"
   ]
  },
  {
   "cell_type": "code",
   "execution_count": 38,
   "id": "a8621976-d72f-4613-8f18-6b3de4bc12fb",
   "metadata": {
    "tags": []
   },
   "outputs": [
    {
     "data": {
      "text/plain": [
       "'Alternaria leaf spot (142).jpg'"
      ]
     },
     "execution_count": 38,
     "metadata": {},
     "output_type": "execute_result"
    }
   ],
   "source": [
    "df[df[\"Hash\"] == 167908002][\"Names\"].values[0]"
   ]
  },
  {
   "cell_type": "code",
   "execution_count": 42,
   "id": "b0458d19-6d10-46ff-8f82-c23576b8e87d",
   "metadata": {
    "tags": []
   },
   "outputs": [
    {
     "data": {
      "text/plain": [
       "(68, 2)"
      ]
     },
     "execution_count": 42,
     "metadata": {},
     "output_type": "execute_result"
    }
   ],
   "source": [
    "df.shape"
   ]
  },
  {
   "cell_type": "code",
   "execution_count": 41,
   "id": "833ed2be-f14c-4681-9fc2-91d4e64eab1e",
   "metadata": {
    "tags": []
   },
   "outputs": [
    {
     "name": "stdout",
     "output_type": "stream",
     "text": [
      "['Brown spot (343).jpg' 'Brown spot (344).jpg']的Hash值相同可能是同一张图片，Hahs值为153348874\n",
      "['Brown spot (375).jpg' 'Brown spot (376).jpg']的Hash值相同可能是同一张图片，Hahs值为140068362\n",
      "['Brown spot (351).jpg' 'Brown spot (352).jpg']的Hash值相同可能是同一张图片，Hahs值为153220878\n",
      "['Brown spot (347).jpg' 'Brown spot (348).jpg']的Hash值相同可能是同一张图片，Hahs值为139892755\n",
      "['Brown spot (365).jpg' 'Brown spot (366).jpg']的Hash值相同可能是同一张图片，Hahs值为139487639\n",
      "['Grey spot (333).jpg' 'Grey spot (334).jpg']的Hash值相同可能是同一张图片，Hahs值为98629243\n",
      "['Brown spot (355).jpg' 'Brown spot (356).jpg']的Hash值相同可能是同一张图片，Hahs值为139108256\n",
      "['Alternaria leaf spot (142).jpg' 'Grey spot (291).jpg']的Hash值相同可能是同一张图片，Hahs值为167908002\n",
      "['Brown spot (367).jpg' 'Brown spot (368).jpg']的Hash值相同可能是同一张图片，Hahs值为127901357\n",
      "['Brown spot (385).jpg' 'Brown spot (386).jpg']的Hash值相同可能是同一张图片，Hahs值为144399798\n",
      "['Brown spot (377).jpg' 'Brown spot (378).jpg']的Hash值相同可能是同一张图片，Hahs值为148821822\n",
      "['Brown spot (357).jpg' 'Brown spot (358).jpg']的Hash值相同可能是同一张图片，Hahs值为149025218\n",
      "['Brown spot (337).jpg' 'Brown spot (338).jpg']的Hash值相同可能是同一张图片，Hahs值为141941444\n",
      "['Brown spot (363).jpg' 'Brown spot (364).jpg']的Hash值相同可能是同一张图片，Hahs值为130192453\n",
      "['Brown spot (349).jpg' 'Brown spot (350).jpg']的Hash值相同可能是同一张图片，Hahs值为147867465\n",
      "['Brown spot (361).jpg' 'Brown spot (362).jpg']的Hash值相同可能是同一张图片，Hahs值为134184906\n",
      "['Brown spot (387).jpg' 'Brown spot (388).jpg']的Hash值相同可能是同一张图片，Hahs值为174374089\n",
      "['Brown spot (389).jpg' 'Brown spot (390).jpg']的Hash值相同可能是同一张图片，Hahs值为138309067\n",
      "['Brown spot (339).jpg' 'Brown spot (340).jpg']的Hash值相同可能是同一张图片，Hahs值为139590992\n",
      "['Brown spot (345).jpg' 'Brown spot (346).jpg']的Hash值相同可能是同一张图片，Hahs值为143272017\n",
      "['Brown spot (369).jpg' 'Brown spot (370).jpg']的Hash值相同可能是同一张图片，Hahs值为136727762\n",
      "['Brown spot (353).jpg' 'Brown spot (354).jpg']的Hash值相同可能是同一张图片，Hahs值为149052766\n",
      "['Brown spot (391).jpg' 'Brown spot (392).jpg']的Hash值相同可能是同一张图片，Hahs值为135623264\n",
      "['Frogeye leaf spot (2257).jpg' 'Scab (2996).jpg']的Hash值相同可能是同一张图片，Hahs值为97558501\n",
      "['Brown spot (373).jpg' 'Brown spot (374).jpg']的Hash值相同可能是同一张图片，Hahs值为139172458\n",
      "['Brown spot (341).jpg' 'Brown spot (342).jpg']的Hash值相同可能是同一张图片，Hahs值为139311466\n",
      "['Brown spot (335).jpg' 'Brown spot (336).jpg']的Hash值相同可能是同一张图片，Hahs值为142153196\n",
      "['Rust (1406).jpg' 'Scab (3033).jpg']的Hash值相同可能是同一张图片，Hahs值为103000428\n",
      "['Brown spot (371).jpg' 'Brown spot (372).jpg']的Hash值相同可能是同一张图片，Hahs值为159481968\n",
      "['Brown spot (383).jpg' 'Brown spot (384).jpg']的Hash值相同可能是同一张图片，Hahs值为139132405\n",
      "['Brown spot (359).jpg' 'Brown spot (360).jpg']的Hash值相同可能是同一张图片，Hahs值为138002039\n",
      "['Brown spot (381).jpg' 'Brown spot (382).jpg']的Hash值相同可能是同一张图片，Hahs值为136278393\n",
      "['Grey spot (331).jpg' 'Grey spot (332).jpg']的Hash值相同可能是同一张图片，Hahs值为102841595\n",
      "['Brown spot (379).jpg' 'Brown spot (380).jpg']的Hash值相同可能是同一张图片，Hahs值为143848063\n"
     ]
    }
   ],
   "source": [
    "df = Apple_Hash[Apple_Hash.duplicated(subset=['Hash'],keep=False)]\n",
    "temp = df['Hash'].values\n",
    "for Hash in set(temp):\n",
    "    print(f\"{df[df['Hash'] == Hash]['Names'].values}的Hash值相同可能是同一张图片，Hahs值为{Hash}\")"
   ]
  },
  {
   "cell_type": "code",
   "execution_count": 61,
   "id": "57d3fa71-b9c3-4a3d-9a32-90bf4c9f2114",
   "metadata": {
    "tags": []
   },
   "outputs": [
    {
     "data": {
      "text/plain": [
       "(600,)"
      ]
     },
     "execution_count": 61,
     "metadata": {},
     "output_type": "execute_result"
    }
   ],
   "source": [
    "ans.shape\n",
    "ans_label.shape"
   ]
  },
  {
   "cell_type": "code",
   "execution_count": null,
   "id": "220b8588-7412-4c60-8940-0ba34eae618b",
   "metadata": {},
   "outputs": [],
   "source": []
  },
  {
   "cell_type": "code",
   "execution_count": 51,
   "id": "19912899-f40f-482b-9628-b92ae937e68d",
   "metadata": {
    "tags": []
   },
   "outputs": [
    {
     "data": {
      "text/plain": [
       "(600,)"
      ]
     },
     "execution_count": 51,
     "metadata": {},
     "output_type": "execute_result"
    }
   ],
   "source": [
    "np.array(names).shape"
   ]
  },
  {
   "cell_type": "code",
   "execution_count": 56,
   "id": "e640f840-bbe2-4cd7-b00d-f060dd748d45",
   "metadata": {
    "tags": []
   },
   "outputs": [
    {
     "data": {
      "text/plain": [
       "(600,)"
      ]
     },
     "execution_count": 56,
     "metadata": {},
     "output_type": "execute_result"
    }
   ],
   "source": [
    "np.concatenate((np.array([]),np.array(names))).shape"
   ]
  },
  {
   "cell_type": "code",
   "execution_count": 45,
   "id": "5a4cb753-d6e8-424e-ac77-01d0ef83a8db",
   "metadata": {
    "tags": []
   },
   "outputs": [
    {
     "ename": "TypeError",
     "evalue": "expected Tensor as element 0 in argument 0, but got tuple",
     "output_type": "error",
     "traceback": [
      "\u001b[0;31m---------------------------------------------------------------------------\u001b[0m",
      "\u001b[0;31mTypeError\u001b[0m                                 Traceback (most recent call last)",
      "\u001b[0;32m<ipython-input-45-86b5ec48db53>\u001b[0m in \u001b[0;36m<module>\u001b[0;34m()\u001b[0m\n\u001b[0;32m----> 1\u001b[0;31m \u001b[0mtorch\u001b[0m\u001b[0;34m.\u001b[0m\u001b[0mconcat\u001b[0m\u001b[0;34m(\u001b[0m\u001b[0;34m[\u001b[0m\u001b[0mnames\u001b[0m\u001b[0;34m,\u001b[0m\u001b[0mnames\u001b[0m\u001b[0;34m]\u001b[0m\u001b[0;34m)\u001b[0m\u001b[0;34m\u001b[0m\u001b[0;34m\u001b[0m\u001b[0m\n\u001b[0m",
      "\u001b[0;31mTypeError\u001b[0m: expected Tensor as element 0 in argument 0, but got tuple"
     ]
    }
   ],
   "source": [
    "torch.concat([names,names])"
   ]
  },
  {
   "cell_type": "code",
   "execution_count": 26,
   "id": "802ac8a5-a9ed-4339-9361-42beb2b8cfdb",
   "metadata": {
    "tags": []
   },
   "outputs": [
    {
     "data": {
      "text/plain": [
       "tensor(69862411297)"
      ]
     },
     "execution_count": 26,
     "metadata": {},
     "output_type": "execute_result"
    }
   ],
   "source": [
    "imgs.sum()"
   ]
  },
  {
   "cell_type": "code",
   "execution_count": 35,
   "id": "6898c4ab-774e-4698-b096-c00595a23ab5",
   "metadata": {
    "tags": []
   },
   "outputs": [],
   "source": [
    "temp = torch.sum(imgs, dim=(1,2,3))"
   ]
  },
  {
   "cell_type": "code",
   "execution_count": 38,
   "id": "7874bc95-2bf3-49c7-af57-3eabf34d9b3a",
   "metadata": {
    "tags": []
   },
   "outputs": [
    {
     "data": {
      "text/plain": [
       "torch.Size([600])"
      ]
     },
     "execution_count": 38,
     "metadata": {},
     "output_type": "execute_result"
    }
   ],
   "source": [
    "temp.shape"
   ]
  },
  {
   "cell_type": "code",
   "execution_count": 43,
   "id": "b55598bf-b83e-4349-9f8c-0d9d05f54145",
   "metadata": {
    "tags": []
   },
   "outputs": [
    {
     "data": {
      "text/plain": [
       "torch.Size([600])"
      ]
     },
     "execution_count": 43,
     "metadata": {},
     "output_type": "execute_result"
    }
   ],
   "source": [
    "torch.concat([ans,temp]).shape"
   ]
  },
  {
   "cell_type": "code",
   "execution_count": 21,
   "id": "9d5f1429-a27c-475e-bd2d-56d6178a76dc",
   "metadata": {
    "tags": []
   },
   "outputs": [
    {
     "data": {
      "text/plain": [
       "torch.Size([600, 512, 512, 3])"
      ]
     },
     "execution_count": 21,
     "metadata": {},
     "output_type": "execute_result"
    }
   ],
   "source": [
    "imgs.shape"
   ]
  },
  {
   "cell_type": "code",
   "execution_count": 6,
   "id": "74f05a90-1dee-4756-92d5-c0b132b1033b",
   "metadata": {
    "tags": []
   },
   "outputs": [
    {
     "data": {
      "text/plain": [
       "3"
      ]
     },
     "execution_count": 6,
     "metadata": {},
     "output_type": "execute_result"
    }
   ],
   "source": [
    "len(i)"
   ]
  },
  {
   "cell_type": "code",
   "execution_count": 8,
   "id": "493c2759-adf3-431e-9509-361d024cdb70",
   "metadata": {
    "collapsed": true,
    "jupyter": {
     "outputs_hidden": true
    },
    "tags": []
   },
   "outputs": [
    {
     "data": {
      "text/plain": [
       "('Alternaria leaf spot (126).jpg',\n",
       " 'Alternaria leaf spot (127).jpg',\n",
       " 'Alternaria leaf spot (128).jpg',\n",
       " 'Alternaria leaf spot (129).jpg',\n",
       " 'Alternaria leaf spot (130).jpg',\n",
       " 'Alternaria leaf spot (131).jpg',\n",
       " 'Alternaria leaf spot (132).jpg',\n",
       " 'Alternaria leaf spot (133).jpg',\n",
       " 'Alternaria leaf spot (134).jpg',\n",
       " 'Alternaria leaf spot (135).jpg',\n",
       " 'Alternaria leaf spot (136).jpg',\n",
       " 'Alternaria leaf spot (137).jpg',\n",
       " 'Alternaria leaf spot (138).jpg',\n",
       " 'Alternaria leaf spot (139).jpg',\n",
       " 'Alternaria leaf spot (140).jpg',\n",
       " 'Alternaria leaf spot (141).jpg',\n",
       " 'Alternaria leaf spot (142).jpg',\n",
       " 'Alternaria leaf spot (143).jpg',\n",
       " 'Alternaria leaf spot (144).jpg',\n",
       " 'Alternaria leaf spot (145).jpg',\n",
       " 'Alternaria leaf spot (146).jpg',\n",
       " 'Alternaria leaf spot (147).jpg',\n",
       " 'Alternaria leaf spot (148).jpg',\n",
       " 'Alternaria leaf spot (149).jpg',\n",
       " 'Alternaria leaf spot (150).jpg',\n",
       " 'Alternaria leaf spot (151).jpg',\n",
       " 'Alternaria leaf spot (152).jpg',\n",
       " 'Alternaria leaf spot (153).jpg',\n",
       " 'Alternaria leaf spot (154).jpg',\n",
       " 'Alternaria leaf spot (155).jpg',\n",
       " 'Alternaria leaf spot (156).jpg',\n",
       " 'Alternaria leaf spot (157).jpg',\n",
       " 'Alternaria leaf spot (158).jpg',\n",
       " 'Alternaria leaf spot (159).jpg',\n",
       " 'Alternaria leaf spot (160).jpg',\n",
       " 'Alternaria leaf spot (161).jpg',\n",
       " 'Alternaria leaf spot (162).jpg',\n",
       " 'Alternaria leaf spot (163).jpg',\n",
       " 'Alternaria leaf spot (164).jpg',\n",
       " 'Alternaria leaf spot (165).jpg',\n",
       " 'Alternaria leaf spot (166).jpg',\n",
       " 'Alternaria leaf spot (167).jpg',\n",
       " 'Alternaria leaf spot (168).jpg',\n",
       " 'Alternaria leaf spot (169).jpg',\n",
       " 'Alternaria leaf spot (170).jpg',\n",
       " 'Alternaria leaf spot (171).jpg',\n",
       " 'Alternaria leaf spot (172).jpg',\n",
       " 'Alternaria leaf spot (173).jpg',\n",
       " 'Alternaria leaf spot (174).jpg',\n",
       " 'Alternaria leaf spot (175).jpg',\n",
       " 'Alternaria leaf spot (176).jpg',\n",
       " 'Alternaria leaf spot (177).jpg',\n",
       " 'Alternaria leaf spot (178).jpg',\n",
       " 'Alternaria leaf spot (179).jpg',\n",
       " 'Alternaria leaf spot (180).jpg',\n",
       " 'Alternaria leaf spot (181).jpg',\n",
       " 'Alternaria leaf spot (182).jpg',\n",
       " 'Alternaria leaf spot (183).jpg',\n",
       " 'Alternaria leaf spot (184).jpg',\n",
       " 'Alternaria leaf spot (185).jpg',\n",
       " 'Alternaria leaf spot (186).jpg',\n",
       " 'Alternaria leaf spot (187).jpg',\n",
       " 'Alternaria leaf spot (188).jpg',\n",
       " 'Alternaria leaf spot (189).jpg',\n",
       " 'Alternaria leaf spot (190).jpg',\n",
       " 'Alternaria leaf spot (191).jpg',\n",
       " 'Alternaria leaf spot (192).jpg',\n",
       " 'Alternaria leaf spot (193).jpg',\n",
       " 'Alternaria leaf spot (194).jpg',\n",
       " 'Alternaria leaf spot (195).jpg',\n",
       " 'Alternaria leaf spot (196).jpg',\n",
       " 'Alternaria leaf spot (197).jpg',\n",
       " 'Alternaria leaf spot (198).jpg',\n",
       " 'Alternaria leaf spot (199).jpg',\n",
       " 'Alternaria leaf spot (200).jpg',\n",
       " 'Alternaria leaf spot (201).jpg',\n",
       " 'Alternaria leaf spot (202).jpg',\n",
       " 'Alternaria leaf spot (203).jpg',\n",
       " 'Alternaria leaf spot (204).jpg',\n",
       " 'Alternaria leaf spot (205).jpg',\n",
       " 'Alternaria leaf spot (206).jpg',\n",
       " 'Alternaria leaf spot (207).jpg',\n",
       " 'Alternaria leaf spot (208).jpg',\n",
       " 'Alternaria leaf spot (209).jpg',\n",
       " 'Alternaria leaf spot (210).jpg',\n",
       " 'Alternaria leaf spot (211).jpg',\n",
       " 'Alternaria leaf spot (212).jpg',\n",
       " 'Alternaria leaf spot (213).jpg',\n",
       " 'Alternaria leaf spot (214).jpg',\n",
       " 'Alternaria leaf spot (215).jpg',\n",
       " 'Alternaria leaf spot (216).jpg',\n",
       " 'Alternaria leaf spot (217).jpg',\n",
       " 'Alternaria leaf spot (218).jpg',\n",
       " 'Alternaria leaf spot (219).jpg',\n",
       " 'Alternaria leaf spot (220).jpg',\n",
       " 'Alternaria leaf spot (221).jpg',\n",
       " 'Alternaria leaf spot (222).jpg',\n",
       " 'Alternaria leaf spot (223).jpg',\n",
       " 'Alternaria leaf spot (224).jpg',\n",
       " 'Alternaria leaf spot (225).jpg',\n",
       " 'Alternaria leaf spot (226).jpg',\n",
       " 'Alternaria leaf spot (227).jpg',\n",
       " 'Alternaria leaf spot (228).jpg',\n",
       " 'Alternaria leaf spot (229).jpg',\n",
       " 'Alternaria leaf spot (230).jpg',\n",
       " 'Alternaria leaf spot (231).jpg',\n",
       " 'Alternaria leaf spot (232).jpg',\n",
       " 'Alternaria leaf spot (233).jpg',\n",
       " 'Alternaria leaf spot (234).jpg',\n",
       " 'Alternaria leaf spot (235).jpg',\n",
       " 'Alternaria leaf spot (236).jpg',\n",
       " 'Alternaria leaf spot (237).jpg',\n",
       " 'Alternaria leaf spot (238).jpg',\n",
       " 'Alternaria leaf spot (239).jpg',\n",
       " 'Alternaria leaf spot (240).jpg',\n",
       " 'Alternaria leaf spot (241).jpg',\n",
       " 'Alternaria leaf spot (242).jpg',\n",
       " 'Alternaria leaf spot (243).jpg',\n",
       " 'Alternaria leaf spot (244).jpg',\n",
       " 'Alternaria leaf spot (245).jpg',\n",
       " 'Alternaria leaf spot (246).jpg',\n",
       " 'Alternaria leaf spot (247).jpg',\n",
       " 'Alternaria leaf spot (248).jpg',\n",
       " 'Alternaria leaf spot (249).jpg',\n",
       " 'Alternaria leaf spot (250).jpg',\n",
       " 'Alternaria leaf spot (251).jpg',\n",
       " 'Alternaria leaf spot (252).jpg',\n",
       " 'Alternaria leaf spot (253).jpg',\n",
       " 'Alternaria leaf spot (254).jpg',\n",
       " 'Alternaria leaf spot (255).jpg',\n",
       " 'Alternaria leaf spot (256).jpg',\n",
       " 'Alternaria leaf spot (257).jpg',\n",
       " 'Alternaria leaf spot (258).jpg',\n",
       " 'Alternaria leaf spot (259).jpg',\n",
       " 'Alternaria leaf spot (260).jpg',\n",
       " 'Alternaria leaf spot (261).jpg',\n",
       " 'Alternaria leaf spot (262).jpg',\n",
       " 'Alternaria leaf spot (263).jpg',\n",
       " 'Alternaria leaf spot (264).jpg',\n",
       " 'Alternaria leaf spot (265).jpg',\n",
       " 'Alternaria leaf spot (266).jpg',\n",
       " 'Alternaria leaf spot (267).jpg',\n",
       " 'Alternaria leaf spot (268).jpg',\n",
       " 'Alternaria leaf spot (269).jpg',\n",
       " 'Alternaria leaf spot (270).jpg',\n",
       " 'Alternaria leaf spot (271).jpg',\n",
       " 'Alternaria leaf spot (272).jpg',\n",
       " 'Alternaria leaf spot (273).jpg',\n",
       " 'Alternaria leaf spot (274).jpg',\n",
       " 'Alternaria leaf spot (275).jpg',\n",
       " 'Alternaria leaf spot (276).jpg',\n",
       " 'Alternaria leaf spot (277).jpg',\n",
       " 'Alternaria leaf spot (278).jpg',\n",
       " 'Alternaria leaf spot (279).jpg',\n",
       " 'Alternaria leaf spot (280).jpg',\n",
       " 'Alternaria leaf spot (281).jpg',\n",
       " 'Alternaria leaf spot (282).jpg',\n",
       " 'Alternaria leaf spot (283).jpg',\n",
       " 'Alternaria leaf spot (284).jpg',\n",
       " 'Alternaria leaf spot (285).jpg',\n",
       " 'Alternaria leaf spot (286).jpg',\n",
       " 'Alternaria leaf spot (287).jpg',\n",
       " 'Alternaria leaf spot (288).jpg',\n",
       " 'Alternaria leaf spot (289).jpg',\n",
       " 'Alternaria leaf spot (290).jpg',\n",
       " 'Alternaria leaf spot (291).jpg',\n",
       " 'Alternaria leaf spot (292).jpg',\n",
       " 'Alternaria leaf spot (293).jpg',\n",
       " 'Alternaria leaf spot (294).jpg',\n",
       " 'Alternaria leaf spot (295).jpg',\n",
       " 'Alternaria leaf spot (296).jpg',\n",
       " 'Alternaria leaf spot (297).jpg',\n",
       " 'Alternaria leaf spot (298).jpg',\n",
       " 'Alternaria leaf spot (299).jpg',\n",
       " 'Alternaria leaf spot (300).jpg',\n",
       " 'Alternaria leaf spot (301).jpg',\n",
       " 'Alternaria leaf spot (302).jpg',\n",
       " 'Alternaria leaf spot (303).jpg',\n",
       " 'Alternaria leaf spot (304).jpg',\n",
       " 'Alternaria leaf spot (305).jpg',\n",
       " 'Alternaria leaf spot (306).jpg',\n",
       " 'Alternaria leaf spot (307).jpg',\n",
       " 'Alternaria leaf spot (308).jpg',\n",
       " 'Alternaria leaf spot (309).jpg',\n",
       " 'Alternaria leaf spot (310).jpg',\n",
       " 'Alternaria leaf spot (311).jpg',\n",
       " 'Alternaria leaf spot (312).jpg',\n",
       " 'Alternaria leaf spot (313).jpg',\n",
       " 'Alternaria leaf spot (314).jpg',\n",
       " 'Alternaria leaf spot (315).jpg',\n",
       " 'Alternaria leaf spot (316).jpg',\n",
       " 'Alternaria leaf spot (317).jpg',\n",
       " 'Alternaria leaf spot (318).jpg',\n",
       " 'Alternaria leaf spot (319).jpg',\n",
       " 'Alternaria leaf spot (320).jpg',\n",
       " 'Alternaria leaf spot (321).jpg',\n",
       " 'Alternaria leaf spot (322).jpg',\n",
       " 'Alternaria leaf spot (323).jpg',\n",
       " 'Alternaria leaf spot (324).jpg',\n",
       " 'Alternaria leaf spot (325).jpg',\n",
       " 'Alternaria leaf spot (326).jpg',\n",
       " 'Alternaria leaf spot (327).jpg',\n",
       " 'Alternaria leaf spot (328).jpg',\n",
       " 'Alternaria leaf spot (329).jpg',\n",
       " 'Alternaria leaf spot (330).jpg',\n",
       " 'Alternaria leaf spot (331).jpg',\n",
       " 'Alternaria leaf spot (332).jpg',\n",
       " 'Alternaria leaf spot (333).jpg',\n",
       " 'Alternaria leaf spot (334).jpg',\n",
       " 'Alternaria leaf spot (335).jpg',\n",
       " 'Alternaria leaf spot (336).jpg',\n",
       " 'Alternaria leaf spot (337).jpg',\n",
       " 'Alternaria leaf spot (338).jpg',\n",
       " 'Alternaria leaf spot (339).jpg',\n",
       " 'Alternaria leaf spot (340).jpg',\n",
       " 'Alternaria leaf spot (341).jpg',\n",
       " 'Alternaria leaf spot (342).jpg',\n",
       " 'Alternaria leaf spot (343).jpg',\n",
       " 'Alternaria leaf spot (344).jpg',\n",
       " 'Alternaria leaf spot (345).jpg',\n",
       " 'Alternaria leaf spot (346).jpg',\n",
       " 'Alternaria leaf spot (347).jpg',\n",
       " 'Alternaria leaf spot (348).jpg',\n",
       " 'Alternaria leaf spot (349).jpg',\n",
       " 'Alternaria leaf spot (350).jpg',\n",
       " 'Alternaria leaf spot (351).jpg',\n",
       " 'Alternaria leaf spot (352).jpg',\n",
       " 'Alternaria leaf spot (353).jpg',\n",
       " 'Alternaria leaf spot (354).jpg',\n",
       " 'Alternaria leaf spot (355).jpg',\n",
       " 'Alternaria leaf spot (356).jpg',\n",
       " 'Alternaria leaf spot (357).jpg',\n",
       " 'Alternaria leaf spot (358).jpg',\n",
       " 'Alternaria leaf spot (359).jpg',\n",
       " 'Alternaria leaf spot (360).jpg',\n",
       " 'Alternaria leaf spot (361).jpg',\n",
       " 'Alternaria leaf spot (362).jpg',\n",
       " 'Alternaria leaf spot (363).jpg',\n",
       " 'Alternaria leaf spot (364).jpg',\n",
       " 'Alternaria leaf spot (365).jpg',\n",
       " 'Alternaria leaf spot (366).jpg',\n",
       " 'Alternaria leaf spot (367).jpg',\n",
       " 'Alternaria leaf spot (368).jpg',\n",
       " 'Alternaria leaf spot (369).jpg',\n",
       " 'Alternaria leaf spot (370).jpg',\n",
       " 'Alternaria leaf spot (371).jpg',\n",
       " 'Alternaria leaf spot (372).jpg',\n",
       " 'Alternaria leaf spot (373).jpg',\n",
       " 'Alternaria leaf spot (374).jpg',\n",
       " 'Alternaria leaf spot (375).jpg',\n",
       " 'Alternaria leaf spot (376).jpg',\n",
       " 'Alternaria leaf spot (377).jpg',\n",
       " 'Alternaria leaf spot (378).jpg',\n",
       " 'Alternaria leaf spot (379).jpg',\n",
       " 'Alternaria leaf spot (380).jpg',\n",
       " 'Alternaria leaf spot (381).jpg',\n",
       " 'Alternaria leaf spot (382).jpg',\n",
       " 'Alternaria leaf spot (383).jpg',\n",
       " 'Alternaria leaf spot (384).jpg',\n",
       " 'Alternaria leaf spot (385).jpg',\n",
       " 'Alternaria leaf spot (386).jpg',\n",
       " 'Alternaria leaf spot (387).jpg',\n",
       " 'Alternaria leaf spot (388).jpg',\n",
       " 'Alternaria leaf spot (389).jpg',\n",
       " 'Alternaria leaf spot (390).jpg',\n",
       " 'Alternaria leaf spot (391).jpg',\n",
       " 'Alternaria leaf spot (392).jpg',\n",
       " 'Alternaria leaf spot (393).jpg',\n",
       " 'Alternaria leaf spot (394).jpg',\n",
       " 'Alternaria leaf spot (395).jpg',\n",
       " 'Alternaria leaf spot (396).jpg',\n",
       " 'Alternaria leaf spot (397).jpg',\n",
       " 'Alternaria leaf spot (398).jpg',\n",
       " 'Alternaria leaf spot (399).jpg',\n",
       " 'Alternaria leaf spot (400).jpg',\n",
       " 'Alternaria leaf spot (401).jpg',\n",
       " 'Alternaria leaf spot (402).jpg',\n",
       " 'Alternaria leaf spot (403).jpg',\n",
       " 'Alternaria leaf spot (404).jpg',\n",
       " 'Alternaria leaf spot (405).jpg',\n",
       " 'Alternaria leaf spot (406).jpg',\n",
       " 'Alternaria leaf spot (407).jpg',\n",
       " 'Alternaria leaf spot (408).jpg',\n",
       " 'Alternaria leaf spot (409).jpg',\n",
       " 'Alternaria leaf spot (410).jpg',\n",
       " 'Alternaria leaf spot (411).jpg',\n",
       " 'Alternaria leaf spot (412).jpg',\n",
       " 'Alternaria leaf spot (413).jpg',\n",
       " 'Alternaria leaf spot (414).jpg',\n",
       " 'Alternaria leaf spot (415).jpg',\n",
       " 'Alternaria leaf spot (416).jpg',\n",
       " 'Alternaria leaf spot (417).jpg',\n",
       " 'Brown spot (124).jpg',\n",
       " 'Brown spot (125).jpg',\n",
       " 'Brown spot (126).jpg',\n",
       " 'Brown spot (127).jpg',\n",
       " 'Brown spot (128).jpg',\n",
       " 'Brown spot (129).jpg',\n",
       " 'Brown spot (130).jpg',\n",
       " 'Brown spot (131).jpg',\n",
       " 'Brown spot (132).jpg',\n",
       " 'Brown spot (133).jpg',\n",
       " 'Brown spot (134).jpg',\n",
       " 'Brown spot (135).jpg',\n",
       " 'Brown spot (136).jpg',\n",
       " 'Brown spot (137).jpg',\n",
       " 'Brown spot (138).jpg',\n",
       " 'Brown spot (139).jpg',\n",
       " 'Brown spot (140).jpg',\n",
       " 'Brown spot (141).jpg',\n",
       " 'Brown spot (142).jpg',\n",
       " 'Brown spot (143).jpg',\n",
       " 'Brown spot (144).jpg',\n",
       " 'Brown spot (145).jpg',\n",
       " 'Brown spot (146).jpg',\n",
       " 'Brown spot (147).jpg',\n",
       " 'Brown spot (148).jpg',\n",
       " 'Brown spot (149).jpg',\n",
       " 'Brown spot (150).jpg',\n",
       " 'Brown spot (151).jpg',\n",
       " 'Brown spot (152).jpg',\n",
       " 'Brown spot (153).jpg',\n",
       " 'Brown spot (154).jpg',\n",
       " 'Brown spot (155).jpg',\n",
       " 'Brown spot (156).jpg',\n",
       " 'Brown spot (157).jpg',\n",
       " 'Brown spot (158).jpg',\n",
       " 'Brown spot (159).jpg',\n",
       " 'Brown spot (160).jpg',\n",
       " 'Brown spot (161).jpg',\n",
       " 'Brown spot (162).jpg',\n",
       " 'Brown spot (163).jpg',\n",
       " 'Brown spot (164).jpg',\n",
       " 'Brown spot (165).jpg',\n",
       " 'Brown spot (166).jpg',\n",
       " 'Brown spot (167).jpg',\n",
       " 'Brown spot (168).jpg',\n",
       " 'Brown spot (169).jpg',\n",
       " 'Brown spot (170).jpg',\n",
       " 'Brown spot (171).jpg',\n",
       " 'Brown spot (172).jpg',\n",
       " 'Brown spot (173).jpg',\n",
       " 'Brown spot (174).jpg',\n",
       " 'Brown spot (175).jpg',\n",
       " 'Brown spot (176).jpg',\n",
       " 'Brown spot (177).jpg',\n",
       " 'Brown spot (178).jpg',\n",
       " 'Brown spot (179).jpg',\n",
       " 'Brown spot (180).jpg',\n",
       " 'Brown spot (181).jpg',\n",
       " 'Brown spot (182).jpg',\n",
       " 'Brown spot (183).jpg',\n",
       " 'Brown spot (184).jpg',\n",
       " 'Brown spot (185).jpg',\n",
       " 'Brown spot (186).jpg',\n",
       " 'Brown spot (187).jpg',\n",
       " 'Brown spot (188).jpg',\n",
       " 'Brown spot (189).jpg',\n",
       " 'Brown spot (190).jpg',\n",
       " 'Brown spot (191).jpg',\n",
       " 'Brown spot (192).jpg',\n",
       " 'Brown spot (193).jpg',\n",
       " 'Brown spot (194).jpg',\n",
       " 'Brown spot (195).jpg',\n",
       " 'Brown spot (196).jpg',\n",
       " 'Brown spot (197).jpg',\n",
       " 'Brown spot (198).jpg',\n",
       " 'Brown spot (199).jpg',\n",
       " 'Brown spot (200).jpg',\n",
       " 'Brown spot (201).jpg',\n",
       " 'Brown spot (202).jpg',\n",
       " 'Brown spot (203).jpg',\n",
       " 'Brown spot (204).jpg',\n",
       " 'Brown spot (205).jpg',\n",
       " 'Brown spot (206).jpg',\n",
       " 'Brown spot (207).jpg',\n",
       " 'Brown spot (208).jpg',\n",
       " 'Brown spot (209).jpg',\n",
       " 'Brown spot (210).jpg',\n",
       " 'Brown spot (211).jpg',\n",
       " 'Brown spot (212).jpg',\n",
       " 'Brown spot (213).jpg',\n",
       " 'Brown spot (214).jpg',\n",
       " 'Brown spot (215).jpg',\n",
       " 'Brown spot (216).jpg',\n",
       " 'Brown spot (217).jpg',\n",
       " 'Brown spot (218).jpg',\n",
       " 'Brown spot (219).jpg',\n",
       " 'Brown spot (220).jpg',\n",
       " 'Brown spot (221).jpg',\n",
       " 'Brown spot (222).jpg',\n",
       " 'Brown spot (223).jpg',\n",
       " 'Brown spot (224).jpg',\n",
       " 'Brown spot (225).jpg',\n",
       " 'Brown spot (226).jpg',\n",
       " 'Brown spot (227).jpg',\n",
       " 'Brown spot (228).jpg',\n",
       " 'Brown spot (229).jpg',\n",
       " 'Brown spot (230).jpg',\n",
       " 'Brown spot (231).jpg',\n",
       " 'Brown spot (232).jpg',\n",
       " 'Brown spot (233).jpg',\n",
       " 'Brown spot (234).jpg',\n",
       " 'Brown spot (235).jpg',\n",
       " 'Brown spot (236).jpg',\n",
       " 'Brown spot (237).jpg',\n",
       " 'Brown spot (238).jpg',\n",
       " 'Brown spot (239).jpg',\n",
       " 'Brown spot (240).jpg',\n",
       " 'Brown spot (241).jpg',\n",
       " 'Brown spot (242).jpg',\n",
       " 'Brown spot (243).jpg',\n",
       " 'Brown spot (244).jpg',\n",
       " 'Brown spot (245).jpg',\n",
       " 'Brown spot (246).jpg',\n",
       " 'Brown spot (247).jpg',\n",
       " 'Brown spot (248).jpg',\n",
       " 'Brown spot (249).jpg',\n",
       " 'Brown spot (250).jpg',\n",
       " 'Brown spot (251).jpg',\n",
       " 'Brown spot (252).jpg',\n",
       " 'Brown spot (253).jpg',\n",
       " 'Brown spot (254).jpg',\n",
       " 'Brown spot (255).jpg',\n",
       " 'Brown spot (256).jpg',\n",
       " 'Brown spot (257).jpg',\n",
       " 'Brown spot (258).jpg',\n",
       " 'Brown spot (259).jpg',\n",
       " 'Brown spot (260).jpg',\n",
       " 'Brown spot (261).jpg',\n",
       " 'Brown spot (262).jpg',\n",
       " 'Brown spot (263).jpg',\n",
       " 'Brown spot (264).jpg',\n",
       " 'Brown spot (265).jpg',\n",
       " 'Brown spot (266).jpg',\n",
       " 'Brown spot (267).jpg',\n",
       " 'Brown spot (268).jpg',\n",
       " 'Brown spot (269).jpg',\n",
       " 'Brown spot (270).jpg',\n",
       " 'Brown spot (271).jpg',\n",
       " 'Brown spot (272).jpg',\n",
       " 'Brown spot (273).jpg',\n",
       " 'Brown spot (274).jpg',\n",
       " 'Brown spot (275).jpg',\n",
       " 'Brown spot (276).jpg',\n",
       " 'Brown spot (277).jpg',\n",
       " 'Brown spot (278).jpg',\n",
       " 'Brown spot (279).jpg',\n",
       " 'Brown spot (280).jpg',\n",
       " 'Brown spot (281).jpg',\n",
       " 'Brown spot (282).jpg',\n",
       " 'Brown spot (283).jpg',\n",
       " 'Brown spot (284).jpg',\n",
       " 'Brown spot (285).jpg',\n",
       " 'Brown spot (286).jpg',\n",
       " 'Brown spot (287).jpg',\n",
       " 'Brown spot (288).jpg',\n",
       " 'Brown spot (289).jpg',\n",
       " 'Brown spot (290).jpg',\n",
       " 'Brown spot (291).jpg',\n",
       " 'Brown spot (292).jpg',\n",
       " 'Brown spot (293).jpg',\n",
       " 'Brown spot (294).jpg',\n",
       " 'Brown spot (295).jpg',\n",
       " 'Brown spot (296).jpg',\n",
       " 'Brown spot (297).jpg',\n",
       " 'Brown spot (298).jpg',\n",
       " 'Brown spot (299).jpg',\n",
       " 'Brown spot (300).jpg',\n",
       " 'Brown spot (301).jpg',\n",
       " 'Brown spot (302).jpg',\n",
       " 'Brown spot (303).jpg',\n",
       " 'Brown spot (304).jpg',\n",
       " 'Brown spot (305).jpg',\n",
       " 'Brown spot (306).jpg',\n",
       " 'Brown spot (307).jpg',\n",
       " 'Brown spot (308).jpg',\n",
       " 'Brown spot (309).jpg',\n",
       " 'Brown spot (310).jpg',\n",
       " 'Brown spot (311).jpg',\n",
       " 'Brown spot (312).jpg',\n",
       " 'Brown spot (313).jpg',\n",
       " 'Brown spot (314).jpg',\n",
       " 'Brown spot (315).jpg',\n",
       " 'Brown spot (316).jpg',\n",
       " 'Brown spot (317).jpg',\n",
       " 'Brown spot (318).jpg',\n",
       " 'Brown spot (319).jpg',\n",
       " 'Brown spot (320).jpg',\n",
       " 'Brown spot (321).jpg',\n",
       " 'Brown spot (322).jpg',\n",
       " 'Brown spot (323).jpg',\n",
       " 'Brown spot (324).jpg',\n",
       " 'Brown spot (325).jpg',\n",
       " 'Brown spot (326).jpg',\n",
       " 'Brown spot (327).jpg',\n",
       " 'Brown spot (328).jpg',\n",
       " 'Brown spot (329).jpg',\n",
       " 'Brown spot (330).jpg',\n",
       " 'Brown spot (331).jpg',\n",
       " 'Brown spot (332).jpg',\n",
       " 'Brown spot (333).jpg',\n",
       " 'Brown spot (334).jpg',\n",
       " 'Brown spot (335).jpg',\n",
       " 'Brown spot (336).jpg',\n",
       " 'Brown spot (337).jpg',\n",
       " 'Brown spot (338).jpg',\n",
       " 'Brown spot (339).jpg',\n",
       " 'Brown spot (340).jpg',\n",
       " 'Brown spot (341).jpg',\n",
       " 'Brown spot (342).jpg',\n",
       " 'Brown spot (343).jpg',\n",
       " 'Brown spot (344).jpg',\n",
       " 'Brown spot (345).jpg',\n",
       " 'Brown spot (346).jpg',\n",
       " 'Brown spot (347).jpg',\n",
       " 'Brown spot (348).jpg',\n",
       " 'Brown spot (349).jpg',\n",
       " 'Brown spot (350).jpg',\n",
       " 'Brown spot (351).jpg',\n",
       " 'Brown spot (352).jpg',\n",
       " 'Brown spot (353).jpg',\n",
       " 'Brown spot (354).jpg',\n",
       " 'Brown spot (355).jpg',\n",
       " 'Brown spot (356).jpg',\n",
       " 'Brown spot (357).jpg',\n",
       " 'Brown spot (358).jpg',\n",
       " 'Brown spot (359).jpg',\n",
       " 'Brown spot (360).jpg',\n",
       " 'Brown spot (361).jpg',\n",
       " 'Brown spot (362).jpg',\n",
       " 'Brown spot (363).jpg',\n",
       " 'Brown spot (364).jpg',\n",
       " 'Brown spot (365).jpg',\n",
       " 'Brown spot (366).jpg',\n",
       " 'Brown spot (367).jpg',\n",
       " 'Brown spot (368).jpg',\n",
       " 'Brown spot (369).jpg',\n",
       " 'Brown spot (370).jpg',\n",
       " 'Brown spot (371).jpg',\n",
       " 'Brown spot (372).jpg',\n",
       " 'Brown spot (373).jpg',\n",
       " 'Brown spot (374).jpg',\n",
       " 'Brown spot (375).jpg',\n",
       " 'Brown spot (376).jpg',\n",
       " 'Brown spot (377).jpg',\n",
       " 'Brown spot (378).jpg',\n",
       " 'Brown spot (379).jpg',\n",
       " 'Brown spot (380).jpg',\n",
       " 'Brown spot (381).jpg',\n",
       " 'Brown spot (382).jpg',\n",
       " 'Brown spot (383).jpg',\n",
       " 'Brown spot (384).jpg',\n",
       " 'Brown spot (385).jpg',\n",
       " 'Brown spot (386).jpg',\n",
       " 'Brown spot (387).jpg',\n",
       " 'Brown spot (388).jpg',\n",
       " 'Brown spot (389).jpg',\n",
       " 'Brown spot (390).jpg',\n",
       " 'Brown spot (391).jpg',\n",
       " 'Brown spot (392).jpg',\n",
       " 'Brown spot (393).jpg',\n",
       " 'Brown spot (394).jpg',\n",
       " 'Brown spot (395).jpg',\n",
       " 'Brown spot (396).jpg',\n",
       " 'Brown spot (397).jpg',\n",
       " 'Brown spot (398).jpg',\n",
       " 'Brown spot (399).jpg',\n",
       " 'Brown spot (400).jpg',\n",
       " 'Brown spot (401).jpg',\n",
       " 'Brown spot (402).jpg',\n",
       " 'Brown spot (403).jpg',\n",
       " 'Brown spot (404).jpg',\n",
       " 'Brown spot (405).jpg',\n",
       " 'Brown spot (406).jpg',\n",
       " 'Brown spot (407).jpg',\n",
       " 'Brown spot (408).jpg',\n",
       " 'Brown spot (409).jpg',\n",
       " 'Brown spot (410).jpg',\n",
       " 'Brown spot (411).jpg',\n",
       " 'Frogeye leaf spot (1000).jpg',\n",
       " 'Frogeye leaf spot (1001).jpg',\n",
       " 'Frogeye leaf spot (1002).jpg',\n",
       " 'Frogeye leaf spot (1003).jpg',\n",
       " 'Frogeye leaf spot (1004).jpg',\n",
       " 'Frogeye leaf spot (1005).jpg',\n",
       " 'Frogeye leaf spot (1006).jpg',\n",
       " 'Frogeye leaf spot (1007).jpg',\n",
       " 'Frogeye leaf spot (1008).jpg',\n",
       " 'Frogeye leaf spot (1009).jpg',\n",
       " 'Frogeye leaf spot (1010).jpg',\n",
       " 'Frogeye leaf spot (1011).jpg',\n",
       " 'Frogeye leaf spot (1012).jpg',\n",
       " 'Frogeye leaf spot (1013).jpg',\n",
       " 'Frogeye leaf spot (1014).jpg',\n",
       " 'Frogeye leaf spot (1015).jpg',\n",
       " 'Frogeye leaf spot (1016).jpg',\n",
       " 'Frogeye leaf spot (1017).jpg',\n",
       " 'Frogeye leaf spot (1018).jpg',\n",
       " 'Frogeye leaf spot (1019).jpg')"
      ]
     },
     "execution_count": 8,
     "metadata": {},
     "output_type": "execute_result"
    }
   ],
   "source": [
    "i[2]"
   ]
  },
  {
   "cell_type": "code",
   "execution_count": null,
   "id": "ae029d23-bb48-4713-8bb9-5bf1b6dc3507",
   "metadata": {},
   "outputs": [],
   "source": []
  }
 ],
 "metadata": {
  "kernelspec": {
   "display_name": "python3.6",
   "language": "python",
   "name": "python3.6"
  },
  "language_info": {
   "codemirror_mode": {
    "name": "ipython",
    "version": 3
   },
   "file_extension": ".py",
   "mimetype": "text/x-python",
   "name": "python",
   "nbconvert_exporter": "python",
   "pygments_lexer": "ipython3",
   "version": "3.6.9"
  }
 },
 "nbformat": 4,
 "nbformat_minor": 5
}
