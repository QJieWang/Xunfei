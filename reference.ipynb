{
 "cells": [
  {
   "cell_type": "code",
   "execution_count": 1,
   "id": "fbdcad66-f8dc-409b-b5bf-72fe2dc4c3e6",
   "metadata": {
    "tags": []
   },
   "outputs": [],
   "source": [
    "import pandas as pd"
   ]
  },
  {
   "cell_type": "code",
   "execution_count": 2,
   "id": "7065765b-19da-4dd9-82a1-aac41c024084",
   "metadata": {
    "tags": []
   },
   "outputs": [],
   "source": [
    "file_list = ['/home/image003/xunfei/results/apple-results-0.9471158554500049.csv',\"/home/image003/xunfei/results/apple-results-0.9608265595925962.csv\",\"/home/image003/xunfei/results/apple-results-0.9958867887572226.csv\"]"
   ]
  },
  {
   "cell_type": "code",
   "execution_count": 3,
   "id": "20a98f95-135e-4130-b739-df6f9f7ec15d",
   "metadata": {
    "tags": []
   },
   "outputs": [],
   "source": [
    "pd_list = [ pd.read_csv(path) for path in file_list]"
   ]
  },
  {
   "cell_type": "code",
   "execution_count": 4,
   "id": "19d2e642-122a-457a-8c2c-2d5e722ec03d",
   "metadata": {
    "tags": []
   },
   "outputs": [
    {
     "data": {
      "text/html": [
       "<div>\n",
       "<style scoped>\n",
       "    .dataframe tbody tr th:only-of-type {\n",
       "        vertical-align: middle;\n",
       "    }\n",
       "\n",
       "    .dataframe tbody tr th {\n",
       "        vertical-align: top;\n",
       "    }\n",
       "\n",
       "    .dataframe thead th {\n",
       "        text-align: right;\n",
       "    }\n",
       "</style>\n",
       "<table border=\"1\" class=\"dataframe\">\n",
       "  <thead>\n",
       "    <tr style=\"text-align: right;\">\n",
       "      <th></th>\n",
       "      <th>uuid</th>\n",
       "      <th>label</th>\n",
       "    </tr>\n",
       "  </thead>\n",
       "  <tbody>\n",
       "    <tr>\n",
       "      <th>0</th>\n",
       "      <td>0001348010.jpg</td>\n",
       "      <td>d1</td>\n",
       "    </tr>\n",
       "    <tr>\n",
       "      <th>1</th>\n",
       "      <td>000623946.jpg</td>\n",
       "      <td>d9</td>\n",
       "    </tr>\n",
       "    <tr>\n",
       "      <th>2</th>\n",
       "      <td>000767853.jpg</td>\n",
       "      <td>d2</td>\n",
       "    </tr>\n",
       "    <tr>\n",
       "      <th>3</th>\n",
       "      <td>001043027.jpg</td>\n",
       "      <td>d9</td>\n",
       "    </tr>\n",
       "    <tr>\n",
       "      <th>4</th>\n",
       "      <td>001121349.jpg</td>\n",
       "      <td>d1</td>\n",
       "    </tr>\n",
       "    <tr>\n",
       "      <th>...</th>\n",
       "      <td>...</td>\n",
       "      <td>...</td>\n",
       "    </tr>\n",
       "    <tr>\n",
       "      <th>4366</th>\n",
       "      <td>999192160.jpg</td>\n",
       "      <td>d9</td>\n",
       "    </tr>\n",
       "    <tr>\n",
       "      <th>4367</th>\n",
       "      <td>999614360.jpg</td>\n",
       "      <td>d9</td>\n",
       "    </tr>\n",
       "    <tr>\n",
       "      <th>4368</th>\n",
       "      <td>999727804.jpg</td>\n",
       "      <td>d9</td>\n",
       "    </tr>\n",
       "    <tr>\n",
       "      <th>4369</th>\n",
       "      <td>9997443683.jpg</td>\n",
       "      <td>d3</td>\n",
       "    </tr>\n",
       "    <tr>\n",
       "      <th>4370</th>\n",
       "      <td>999809480.jpg</td>\n",
       "      <td>d4</td>\n",
       "    </tr>\n",
       "  </tbody>\n",
       "</table>\n",
       "<p>4371 rows × 2 columns</p>\n",
       "</div>"
      ],
      "text/plain": [
       "                uuid label\n",
       "0     0001348010.jpg    d1\n",
       "1      000623946.jpg    d9\n",
       "2      000767853.jpg    d2\n",
       "3      001043027.jpg    d9\n",
       "4      001121349.jpg    d1\n",
       "...              ...   ...\n",
       "4366   999192160.jpg    d9\n",
       "4367   999614360.jpg    d9\n",
       "4368   999727804.jpg    d9\n",
       "4369  9997443683.jpg    d3\n",
       "4370   999809480.jpg    d4\n",
       "\n",
       "[4371 rows x 2 columns]"
      ]
     },
     "execution_count": 4,
     "metadata": {},
     "output_type": "execute_result"
    }
   ],
   "source": [
    "# 合并表格\n",
    "merged_df = pd.concat(pd_list,axis = 1)\n",
    "# 创建ans表格\n",
    "ans = pd.DataFrame()\n",
    "ans[\"uuid\"] = pd_list[0][\"uuid\"]\n",
    "ans[\"label\"] = merged_df['label'].mode(axis=1)[0]\n",
    "ans "
   ]
  },
  {
   "cell_type": "code",
   "execution_count": null,
   "id": "9e241970-8c69-4205-9bee-f432c0e50667",
   "metadata": {},
   "outputs": [
    {
     "data": {
      "text/plain": [
       "0       d1\n",
       "1       d9\n",
       "2       d2\n",
       "3       d9\n",
       "4       d1\n",
       "        ..\n",
       "4366    d9\n",
       "4367    d9\n",
       "4368    d9\n",
       "4369    d3\n",
       "4370    d4\n",
       "Name: 0, Length: 4371, dtype: object"
      ]
     },
     "execution_count": 49,
     "metadata": {},
     "output_type": "execute_result"
    }
   ],
   "source": [
    "ans.to_csv(\"./ans.csv\")"
   ]
  }
 ],
 "metadata": {
  "kernelspec": {
   "display_name": "python3.6",
   "language": "python",
   "name": "python3.6"
  },
  "language_info": {
   "codemirror_mode": {
    "name": "ipython",
    "version": 3
   },
   "file_extension": ".py",
   "mimetype": "text/x-python",
   "name": "python",
   "nbconvert_exporter": "python",
   "pygments_lexer": "ipython3",
   "version": "3.6.9"
  }
 },
 "nbformat": 4,
 "nbformat_minor": 5
}
